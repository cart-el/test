{
 "cells": [
  {
   "cell_type": "code",
   "execution_count": null,
   "id": "e44fb4b6",
   "metadata": {},
   "outputs": [],
   "source": [
    "import pandas as pd\n",
    "import numpy as np\n",
    "import string\n",
    "import scipy\n",
    "import sklearn\n",
    "import spacy\n",
    "import nltk\n",
    "import re\n",
    "import os"
   ]
  },
  {
   "cell_type": "code",
   "execution_count": null,
   "id": "45bc5da3",
   "metadata": {},
   "outputs": [],
   "source": [
    "from nltk import word_tokenize\n",
    "from nltk.corpus import stopwords\n",
    "from sklearn.metrics.pairwise import cosine_similarity\n",
    "#from sklearn.feature_extraction.text import TfidfVectorizer\n",
    "from sentence_transformers import SentenceTransformer, util"
   ]
  },
  {
   "cell_type": "code",
   "execution_count": null,
   "id": "79d20ba6",
   "metadata": {},
   "outputs": [],
   "source": [
    "def read_csv_files_in_folder(folder_path):\n",
    "    \"\"\"\n",
    "    Read all CSV files in a folder and concatenate them into a single DataFrame.\n",
    "\n",
    "    Parameters:\n",
    "    - folder_path (str): Path to the folder containing CSV files.\n",
    "\n",
    "    Returns:\n",
    "    - pd.DataFrame: Concatenated DataFrame.\n",
    "    \"\"\"\n",
    "    # List all files in the folder\n",
    "    all_files = os.listdir(folder_path)\n",
    "\n",
    "    # List to store DataFrames\n",
    "    dfs = []\n",
    "\n",
    "    # Loop through CSV files and read them\n",
    "    for file in all_files:\n",
    "        if file.endswith('.csv'):\n",
    "            file_path = os.path.join(folder_path, file)\n",
    "            df = pd.read_csv(file_path)\n",
    "            dfs.append(df)\n",
    "\n",
    "    # Concatenate DataFrames into one\n",
    "    concatenated_df = pd.concat(dfs, ignore_index=True)\n",
    "    \n",
    "    return concatenated_df"
   ]
  },
  {
   "cell_type": "code",
   "execution_count": null,
   "id": "4eb2d61c",
   "metadata": {},
   "outputs": [],
   "source": [
    "def text_embed(text_col_name, dataframe, vector_col_name):\n",
    "    model = SentenceTransformer(\"thenlper/gte-small\")\n",
    "    dataframe[text_col_name] = dataframe[text_col_name].astype(str)\n",
    "    dataframe[vector_col_name] = dataframe[text_col_name].apply(lambda x: model.encode(x))\n",
    "    return dataframe"
   ]
  },
  {
   "cell_type": "code",
   "execution_count": null,
   "id": "8c31f890",
   "metadata": {},
   "outputs": [],
   "source": [
    "# Set random seed for reproducibility\n",
    "np.random.seed(42)\n",
    "\n",
    "# Function to find the matching label for each corpus\n",
    "def match_corpus_to_label(corpus_embedding, label_embeddings, threshold=0.85):\n",
    "    similarities = cosine_similarity([corpus_embedding], label_embeddings)\n",
    "    max_similarity = np.max(similarities)\n",
    "    \n",
    "    if max_similarity >= threshold:\n",
    "        # Get the index of the matching label\n",
    "        label_index = np.argmax(similarities)\n",
    "        return label_index\n",
    "    else:\n",
    "        return None"
   ]
  },
  {
   "cell_type": "code",
   "execution_count": null,
   "id": "0346f274",
   "metadata": {},
   "outputs": [],
   "source": [
    "# Set random seed for reproducibility\n",
    "np.random.seed(42)\n",
    "\n",
    "def assign_subtopic(corpus_df, corpus_embeddings, subtopic_df, subtopic_embeddings, subtopic_index_reference, subtopic_output):\n",
    "    # Iterate over each row in sample_data\n",
    "    for index, row in corpus_df.iterrows():\n",
    "        corpus_embedding = row[corpus_embeddings]  # Assuming 'QA_vector' is the column with corpus embeddings\n",
    "    \n",
    "        # If the embedding is a sequence or array, stack them vertically and compute the mean\n",
    "        if isinstance(corpus_embedding, list):\n",
    "            corpus_embedding = np.mean(np.vstack(corpus_embedding), axis=0)\n",
    "\n",
    "        # If the embedding is still 2D, flatten it to 1D\n",
    "        if len(corpus_embedding.shape) > 1:\n",
    "            corpus_embedding = corpus_embedding.flatten()\n",
    "\n",
    "        matching_label_index = match_corpus_to_label(corpus_embedding, np.vstack(subtopic_embeddings.values))\n",
    "\n",
    "        # If a matching label is found, assign it to a new column 'AssignedLabel'\n",
    "        if matching_label_index is not None:\n",
    "            corpus_df.at[index, subtopic_output] = subtopic_df.at[matching_label_index, subtopic_index_reference]"
   ]
  },
  {
   "cell_type": "code",
   "execution_count": null,
   "id": "dd5be8cd",
   "metadata": {},
   "outputs": [],
   "source": [
    "def preprocess_text(text):\n",
    "    # Convert to lowercase\n",
    "    text = text.lower()\n",
    "\n",
    "    # Remove numbers, symbols, and punctuation (except for the case where 2 follows CO)\n",
    "    text = re.sub(r'[\\d' + re.escape(string.punctuation) + '](?<![cC][oO]2)', '', text)\n",
    "\n",
    "    # Tokenize the text\n",
    "    tokens = word_tokenize(text)\n",
    "\n",
    "    # Remove stopwords\n",
    "    stop_words = set(stopwords.words('english'))\n",
    "    tokens = [word for word in tokens if word not in stop_words]\n",
    "\n",
    "    # Join the tokens back into a single string\n",
    "    preprocessed_text = ' '.join(tokens)\n",
    "\n",
    "    return preprocessed_text"
   ]
  },
  {
   "cell_type": "markdown",
   "id": "07b802db",
   "metadata": {},
   "source": [
    "# SMART CITIES"
   ]
  },
  {
   "cell_type": "code",
   "execution_count": null,
   "id": "76d15fb0",
   "metadata": {},
   "outputs": [],
   "source": [
    "smart_cities_df = pd.read_excel(r\"C:\\Users\\RedHat\\Downloads\\Tiiqu\\Supercleaned demo dataset ready for Topic mod 21 03.xlsx\", \n",
    "                       sheet_name=1)\n",
    "smart_cities_df"
   ]
  },
  {
   "cell_type": "code",
   "execution_count": null,
   "id": "5d7e6fb9",
   "metadata": {},
   "outputs": [],
   "source": [
    "smart_cities_df.columns"
   ]
  },
  {
   "cell_type": "code",
   "execution_count": null,
   "id": "df0961ca",
   "metadata": {},
   "outputs": [],
   "source": [
    "smart_cities_df['QA'] = smart_cities_df['Question'] + ' ' + smart_cities_df['Answer']\n",
    "smart_cities_df"
   ]
  },
  {
   "cell_type": "code",
   "execution_count": null,
   "id": "2b776dbf",
   "metadata": {},
   "outputs": [],
   "source": [
    "# smart cities subtopic\n",
    "folder_path = r'C:\\Users\\RedHat\\Downloads\\Tiiqu\\Subtopics'\n",
    "smcts_subtopic_df = read_csv_files_in_folder(folder_path)\n",
    "smcts_subtopic_df"
   ]
  },
  {
   "cell_type": "code",
   "execution_count": null,
   "id": "0e04ce1c",
   "metadata": {},
   "outputs": [],
   "source": [
    "# text embedding for smart cities\n",
    "text_embed('QA', smart_cities_df, 'QA_vector')"
   ]
  },
  {
   "cell_type": "code",
   "execution_count": null,
   "id": "0308d19d",
   "metadata": {},
   "outputs": [],
   "source": [
    "# subtopic embedding for smart cities\n",
    "text_embed('Description', smcts_subtopic_df, 'Des_vector')"
   ]
  },
  {
   "cell_type": "code",
   "execution_count": null,
   "id": "fad2558c",
   "metadata": {},
   "outputs": [],
   "source": [
    "# Subtopic assignment for smart cities dataset\n",
    "assign_subtopic(smart_cities_df, 'QA_vector', smcts_subtopic_df, smcts_subtopic_df['Des_vector'], 'Terminology', 'Assigned Subtopic')"
   ]
  },
  {
   "cell_type": "code",
   "execution_count": null,
   "id": "8b717e96",
   "metadata": {},
   "outputs": [],
   "source": [
    "# PREPROCESSING"
   ]
  },
  {
   "cell_type": "code",
   "execution_count": null,
   "id": "e6b7563e",
   "metadata": {},
   "outputs": [],
   "source": [
    "smart_cities_df['QA_prep'] = smart_cities_df['QA'].apply(preprocess_text)"
   ]
  },
  {
   "cell_type": "code",
   "execution_count": null,
   "id": "09c2eee4",
   "metadata": {},
   "outputs": [],
   "source": [
    "smcts_subtopic_df['Des_prep'] = smcts_subtopic_df['Description'].apply(preprocess_text)"
   ]
  },
  {
   "cell_type": "code",
   "execution_count": null,
   "id": "d1030b30",
   "metadata": {},
   "outputs": [],
   "source": [
    "# text embedding for preprocessed smart cities corpus\n",
    "text_embed('QA_prep', smart_cities_df, 'QA_prep_vector')"
   ]
  },
  {
   "cell_type": "code",
   "execution_count": null,
   "id": "62f94f2a",
   "metadata": {},
   "outputs": [],
   "source": [
    "# subtopic embedding for preprocessed smart cities description\n",
    "text_embed('Des_prep', smcts_subtopic_df, 'Des_prep_vector')"
   ]
  },
  {
   "cell_type": "code",
   "execution_count": null,
   "id": "64439d3b",
   "metadata": {},
   "outputs": [],
   "source": [
    "#Subtopic assignment for smart cities dataset\n",
    "assign_subtopic(smart_cities_df, 'QA_prep_vector', smcts_subtopic_df, smcts_subtopic_df['Des_prep_vector'], 'Terminology', 'Assigned Subtopic(Preprocessed)')"
   ]
  },
  {
   "cell_type": "code",
   "execution_count": null,
   "id": "eef836f4",
   "metadata": {},
   "outputs": [],
   "source": [
    "smart_cities_df"
   ]
  },
  {
   "cell_type": "code",
   "execution_count": null,
   "id": "3deb0db6",
   "metadata": {},
   "outputs": [],
   "source": [
    "# Export to CSV\n",
    "smart_cities_df.to_csv('Smart Cities SUBTOPIC ALLOCATION with New Dataset---85percent.csv')"
   ]
  },
  {
   "cell_type": "code",
   "execution_count": null,
   "id": "620d1de4",
   "metadata": {},
   "outputs": [],
   "source": []
  },
  {
   "cell_type": "code",
   "execution_count": null,
   "id": "c53db6fe",
   "metadata": {},
   "outputs": [],
   "source": [
    "subs = pd.read_excel(r\"C:\\Users\\RedHat\\Downloads\\Tiiqu\\Smart cities macro topic, topics, sub-topics.xlsx\", sheet_name=1)\n",
    "subs"
   ]
  },
  {
   "cell_type": "code",
   "execution_count": null,
   "id": "118fff46",
   "metadata": {},
   "outputs": [],
   "source": [
    "UM = subs['Urban Mobility'].values\n",
    "ITS = subs['Intelligent Transportation Systems'].values\n",
    "SG = subs['Smart Grids'].values\n",
    "EM = subs['Energy Management'].values\n",
    "SI = subs['Sustainable Infrastructure'].values\n",
    "DG = subs['Digital Governance'].values\n",
    "IiC = subs['IoT in Cities'].values\n",
    "SB = subs['Smart Buildings'].values\n",
    "WM = subs['Waste Management'].values\n",
    "WaM = subs['Water Management'].values\n",
    "CE = subs['Civic Engagement'].values\n",
    "PS = subs['Public Safety'].values\n",
    "EvM = subs['Environmental Monitoring'].values\n",
    "UPA = subs['Urban Planning Analytics'].values\n",
    "SSL = subs['Smart Street Lighting'].values\n",
    "UGS = subs['Urban Green Spaces'].values\n",
    "EGS = subs['E-Government Services'].values\n",
    "AQM = subs['Air Quality Monitoring'].values\n",
    "SPS = subs['Smart Parking Solutions'].values\n",
    "UAV = subs['Urban autonomous vehicles'].values"
   ]
  },
  {
   "cell_type": "code",
   "execution_count": null,
   "id": "2a312933",
   "metadata": {},
   "outputs": [],
   "source": [
    "def topic_allocation(sub_topic):\n",
    "    if pd.isnull(sub_topic):\n",
    "        return \"NA\"     \n",
    "    if any(keyword in sub_topic for keyword in UM):\n",
    "        return \"Urban Mobility\"\n",
    "    elif any(keyword in sub_topic for keyword in ITS):\n",
    "        return \"Intelligent Transportation Systems\"\n",
    "    elif any(keyword in sub_topic for keyword in SG):\n",
    "        return \"Smart Grids\"\n",
    "    elif any(keyword in sub_topic for keyword in EM):\n",
    "        return \"Energy Management\"\n",
    "    elif any(keyword in sub_topic for keyword in SI):\n",
    "        return \"Sustainable Infrastructure\"\n",
    "    elif any(keyword in sub_topic for keyword in DG):\n",
    "        return \"Digital Governance\"\n",
    "    elif any(keyword in sub_topic for keyword in IiC):\n",
    "        return \"IoT in Cities\"\n",
    "    elif any(keyword in sub_topic for keyword in SB):\n",
    "        return \"Smart Buildings\"\n",
    "    elif any(keyword in sub_topic for keyword in WM):\n",
    "        return \"Waste Management\"\n",
    "    elif any(keyword in sub_topic for keyword in WaM):\n",
    "        return \"Water Management\"\n",
    "    elif any(keyword in sub_topic for keyword in CE):\n",
    "        return \"Civic Engagement\"\n",
    "    elif any(keyword in sub_topic for keyword in PS):\n",
    "        return \"Public Safety\"\n",
    "    elif any(keyword in sub_topic for keyword in EvM):\n",
    "        return \"Environmental Monitoring\"\n",
    "    elif any(keyword in sub_topic for keyword in UPA):\n",
    "        return \"Urban Planning Analytics\"\n",
    "    elif any(keyword in sub_topic for keyword in SSL):\n",
    "        return \"Smart Street Lighting\"\n",
    "    elif any(keyword in sub_topic for keyword in UGS):\n",
    "        return \"Urban Green Spaces\"\n",
    "    elif any(keyword in sub_topic for keyword in EGS):\n",
    "        return \"E-Government Services\"\n",
    "    elif any(keyword in sub_topic for keyword in AQM):\n",
    "        return \"Air Quality Monitoring\"\n",
    "    elif any(keyword in sub_topic for keyword in SPS):\n",
    "        return \"Smart Parking Solutions\"\n",
    "    elif any(keyword in sub_topic for keyword in UAV):\n",
    "        return \"Urban autonomous vehicles\"\n",
    "    else:\n",
    "        return \"Other\""
   ]
  },
  {
   "cell_type": "code",
   "execution_count": null,
   "id": "5540d2a0",
   "metadata": {},
   "outputs": [],
   "source": [
    "smart_cities_df['Topic'] = smart_cities_df['Assigned Subtopic(Preprocessed)'].apply(topic_allocation)"
   ]
  },
  {
   "cell_type": "code",
   "execution_count": null,
   "id": "8ec4024e",
   "metadata": {},
   "outputs": [],
   "source": [
    "smart_cities_df"
   ]
  },
  {
   "cell_type": "code",
   "execution_count": null,
   "id": "3dc4882b",
   "metadata": {},
   "outputs": [],
   "source": [
    "# Export unstripped dataset to CSV\n",
    "smart_cities_df.to_csv('Smart Cities Unstripped Dataset---85percent.csv')"
   ]
  },
  {
   "cell_type": "code",
   "execution_count": null,
   "id": "94d4d577",
   "metadata": {},
   "outputs": [],
   "source": [
    "smart_cities_df_striped = smart_cities_df[smart_cities_df['Topic'] != 'NA']\n",
    "smart_cities_df_striped "
   ]
  },
  {
   "cell_type": "code",
   "execution_count": null,
   "id": "725a4190",
   "metadata": {},
   "outputs": [],
   "source": [
    "smart_cities_df_striped = smart_cities_df_striped[['Question', 'Answer', 'Macrotopic ', 'Topic',\n",
    "                                                   'Assigned Subtopic(Preprocessed)', 'Source Url']]\n",
    "smart_cities_df_striped"
   ]
  },
  {
   "cell_type": "code",
   "execution_count": null,
   "id": "5a0f3756",
   "metadata": {},
   "outputs": [],
   "source": [
    "smart_cities_df_striped.rename(columns={'Assigned Subtopic(Preprocessed)': 'Subtopic'}, inplace=True)"
   ]
  },
  {
   "cell_type": "code",
   "execution_count": null,
   "id": "e26ca2ce",
   "metadata": {},
   "outputs": [],
   "source": [
    "smart_cities_df_striped.to_csv('Smart Cities for SUPERCLEANED dataset 23-3-2024.csv')"
   ]
  },
  {
   "cell_type": "code",
   "execution_count": null,
   "id": "03c6a524",
   "metadata": {},
   "outputs": [],
   "source": [
    "smart_cities_df.to_csv('Unstriped Smart Cities for SUPERCLEANED dataset 23-3-2024.csv')"
   ]
  },
  {
   "cell_type": "code",
   "execution_count": null,
   "id": "c921d410",
   "metadata": {},
   "outputs": [],
   "source": []
  },
  {
   "cell_type": "markdown",
   "id": "9acef80c",
   "metadata": {},
   "source": [
    "# CLEAN ENERGY"
   ]
  },
  {
   "cell_type": "code",
   "execution_count": null,
   "id": "02a65012",
   "metadata": {},
   "outputs": [],
   "source": [
    "afc_energy_df = pd.read_excel(r\"C:\\Users\\RedHat\\Downloads\\Tiiqu\\Supercleaned demo dataset ready for Topic mod 21 03.xlsx\", \n",
    "                       sheet_name=2)\n",
    "afc_energy_df"
   ]
  },
  {
   "cell_type": "code",
   "execution_count": null,
   "id": "8c089e3a",
   "metadata": {},
   "outputs": [],
   "source": [
    "afc_energy_df['QA'] = afc_energy_df['Question'] + ' ' + afc_energy_df['Answer']\n",
    "afc_energy_df"
   ]
  },
  {
   "cell_type": "code",
   "execution_count": null,
   "id": "3de5c7ac",
   "metadata": {},
   "outputs": [],
   "source": [
    "sub_df1 = pd.read_excel(r\"C:\\Users\\RedHat\\Downloads\\Tiiqu\\clean energy topic and subtopics (2).xlsx\", \n",
    "                                 sheet_name='subtopic description 1-15')\n",
    "sub_df2 = pd.read_excel(r\"C:\\Users\\RedHat\\Downloads\\Tiiqu\\clean energy topic and subtopics (2).xlsx\", \n",
    "                                 sheet_name='Subtopics description (15-30)')\n",
    "afce_subtopic_df = pd.concat([sub_df1, sub_df2], axis=0).reset_index(drop=True)\n",
    "afce_subtopic_df"
   ]
  },
  {
   "cell_type": "code",
   "execution_count": null,
   "id": "75bba36e",
   "metadata": {},
   "outputs": [],
   "source": [
    "# text embedding for clean energy corpus\n",
    "text_embed('QA', afc_energy_df, 'QA_vector')"
   ]
  },
  {
   "cell_type": "code",
   "execution_count": null,
   "id": "2bfb3a77",
   "metadata": {},
   "outputs": [],
   "source": [
    "# subtopic embedding for clean energy\n",
    "text_embed('Description', afce_subtopic_df, 'Des_vector')"
   ]
  },
  {
   "cell_type": "code",
   "execution_count": null,
   "id": "1a736ce9",
   "metadata": {},
   "outputs": [],
   "source": [
    "# Subtopic assignment for clean energy dataset\n",
    "assign_subtopic(afc_energy_df, 'QA_vector', afce_subtopic_df, afce_subtopic_df['Des_vector'], 'Subtopic', 'Assigned Subtopic')"
   ]
  },
  {
   "cell_type": "code",
   "execution_count": null,
   "id": "6a279c86",
   "metadata": {},
   "outputs": [],
   "source": [
    "afc_energy_df['QA_prep'] = afc_energy_df['QA'].apply(preprocess_text)"
   ]
  },
  {
   "cell_type": "code",
   "execution_count": null,
   "id": "4f32c99c",
   "metadata": {},
   "outputs": [],
   "source": [
    "afce_subtopic_df['Des_prep'] = afce_subtopic_df['Description'].apply(preprocess_text)"
   ]
  },
  {
   "cell_type": "code",
   "execution_count": null,
   "id": "e12c00b3",
   "metadata": {},
   "outputs": [],
   "source": [
    "# text embedding for preprocessed clean energy corpus\n",
    "text_embed('QA_prep', afc_energy_df, 'QA_prep_vector')"
   ]
  },
  {
   "cell_type": "code",
   "execution_count": null,
   "id": "288f109d",
   "metadata": {},
   "outputs": [],
   "source": [
    "# subtopic embedding for preprocessed clean energy description\n",
    "text_embed('Des_prep', afce_subtopic_df, 'Des_prep_vector')"
   ]
  },
  {
   "cell_type": "code",
   "execution_count": null,
   "id": "1ebc1c81",
   "metadata": {},
   "outputs": [],
   "source": [
    "#Subtopic assignment for clean energy dataset\n",
    "assign_subtopic(afc_energy_df, 'QA_prep_vector', afce_subtopic_df, afce_subtopic_df['Des_prep_vector'], 'Subtopic', 'Assigned Subtopic(Preprocessed)')"
   ]
  },
  {
   "cell_type": "code",
   "execution_count": null,
   "id": "4fea934c",
   "metadata": {},
   "outputs": [],
   "source": [
    "subs_cleanenergy = pd.read_excel(r\"C:\\Users\\RedHat\\Downloads\\Tiiqu\\clean energy topic and subtopics (2).xlsx\", \n",
    "                                 sheet_name=1)\n",
    "subs_cleanenergy"
   ]
  },
  {
   "cell_type": "code",
   "execution_count": null,
   "id": "8fa9e9f7",
   "metadata": {},
   "outputs": [],
   "source": [
    "SPS = subs_cleanenergy['Solar Photovoltaic Systems']\n",
    "SPS.dropna(inplace=True)"
   ]
  },
  {
   "cell_type": "code",
   "execution_count": null,
   "id": "1f4a05f9",
   "metadata": {},
   "outputs": [],
   "source": [
    "subs_cleanenergy.columns"
   ]
  },
  {
   "cell_type": "code",
   "execution_count": null,
   "id": "851dd127",
   "metadata": {},
   "outputs": [],
   "source": [
    "SPS = SPS.values\n",
    "WT = subs_cleanenergy['Wind Turbines'].values\n",
    "HP = subs_cleanenergy['Hydropower Plants'].values\n",
    "GE = subs_cleanenergy['Geothermal Energy'].values\n",
    "BE = subs_cleanenergy['Biomass Energy'].values\n",
    "TWE = subs_cleanenergy['Tidal and Wave Energy'].values\n",
    "EST = subs_cleanenergy['Energy Storage Technologies'].values\n",
    "SGT = subs_cleanenergy['Smart Grid Technologies'].values\n",
    "EEL = subs_cleanenergy['Energy-Efficient Lighting'].values\n",
    "EnST = subs_cleanenergy['Energy for sustainable Transportation'].values\n",
    "EEV = subs_cleanenergy['Energy Electric Vehicles'].values\n",
    "GB = subs_cleanenergy['Green Buildings'].values\n",
    "EEA = subs_cleanenergy['Energy-efficient Appliances'].values\n",
    "CCS = subs_cleanenergy['Carbon Capture and Storage'].values\n",
    "GHP = subs_cleanenergy['Green Hydrogen Production'].values\n",
    "SAE = subs_cleanenergy['Sustainable Agriculture Energy'].values\n",
    "CEE = subs_cleanenergy['Circular Economy Energy'].values\n",
    "EFC = subs_cleanenergy['Eco-Friendly Construction Materials'].values\n",
    "OTE = subs_cleanenergy['Ocean Thermal Energy '].values\n",
    "DER = subs_cleanenergy['Distributed Energy Resources'].values\n",
    "MGD = subs_cleanenergy['Microgrids'].values\n",
    "EMS = subs_cleanenergy['Energy Management Systems'].values\n",
    "CEI = subs_cleanenergy['Clean Energy Integration'].values\n",
    "CSP = subs_cleanenergy['Community Solar Projects'].values\n",
    "UPCE = subs_cleanenergy['Urban planning clean energy '].values\n",
    "CR = subs_cleanenergy['Climate Resilience'].values\n",
    "WF = subs_cleanenergy[' Wind Farms'].values\n",
    "CES = subs_cleanenergy['Clean Energy skills'].values\n",
    "REC = subs_cleanenergy['Renewable Energy Certification'].values\n",
    "COP = subs_cleanenergy['Carbon Offset Programs'].values"
   ]
  },
  {
   "cell_type": "code",
   "execution_count": null,
   "id": "1727ac7d",
   "metadata": {},
   "outputs": [],
   "source": [
    "missing_values = ['nan']\n",
    "SPS_cleaned = SPS[~np.isin(SPS, missing_values)]"
   ]
  },
  {
   "cell_type": "code",
   "execution_count": null,
   "id": "b7006e7a",
   "metadata": {},
   "outputs": [],
   "source": [
    "SPS_cleaned"
   ]
  },
  {
   "cell_type": "code",
   "execution_count": null,
   "id": "a15f1d45",
   "metadata": {},
   "outputs": [],
   "source": [
    "def topic_allocation_clngy(sub_topic):\n",
    "    if pd.isnull(sub_topic):\n",
    "        return \"NA\"\n",
    "    if any(keyword in sub_topic for keyword in SPS):\n",
    "        return \"Solar Photovoltaic Systems\"\n",
    "    elif any(keyword in sub_topic for keyword in WT):\n",
    "        return \"Wind Turbines\"\n",
    "    elif any(keyword in sub_topic for keyword in HP):\n",
    "        return \"Hydropower Plants\"\n",
    "    elif any(keyword in sub_topic for keyword in GE):\n",
    "        return \"Geothermal Energy\"\n",
    "    elif any(keyword in sub_topic for keyword in BE):\n",
    "        return \"Biomass Energy\"\n",
    "    elif any(keyword in sub_topic for keyword in TWE):\n",
    "        return \"Tidal and Wave Energy\"\n",
    "    elif any(keyword in sub_topic for keyword in EST):\n",
    "        return \"Energy Storage Technologies\"\n",
    "    elif any(keyword in sub_topic for keyword in SGT):\n",
    "        return \"Smart Grid Technologies\"\n",
    "    elif any(keyword in sub_topic for keyword in EEL):\n",
    "        return \"Energy-Efficient Lighting\"\n",
    "    elif any(keyword in sub_topic for keyword in EnST):\n",
    "        return \"Energy for sustainable Transportation\"\n",
    "    elif any(keyword in sub_topic for keyword in EEV):\n",
    "        return \"Energy Electric Vehicles\"\n",
    "    elif any(keyword in sub_topic for keyword in GB):\n",
    "        return \"Green Buildings\"\n",
    "    elif any(keyword in sub_topic for keyword in EEA):\n",
    "        return \"Energy-efficient Appliances\"\n",
    "    elif any(keyword in sub_topic for keyword in CCS):\n",
    "        return \"Carbon Capture and Storage\"\n",
    "    elif any(keyword in sub_topic for keyword in GHP):\n",
    "        return \"Green Hydrogen Production\"\n",
    "    elif any(keyword in sub_topic for keyword in SAE):\n",
    "        return \"Sustainable Agriculture Energy\"\n",
    "    elif any(keyword in sub_topic for keyword in CEE):\n",
    "        return \"Circular Economy Energy\"\n",
    "    elif any(keyword in sub_topic for keyword in EFC):\n",
    "        return \"Eco-Friendly Construction Materials\"\n",
    "    elif any(keyword in sub_topic for keyword in OTE):\n",
    "        return \"Ocean Thermal Energy\"\n",
    "    elif any(keyword in sub_topic for keyword in DER):\n",
    "        return \"Distributed Energy Resources\"\n",
    "    elif any(keyword in sub_topic for keyword in MGD):\n",
    "        return \"Microgrids\"\n",
    "    elif any(keyword in sub_topic for keyword in EMS):\n",
    "        return \"Energy Management Systems\"\n",
    "    elif any(keyword in sub_topic for keyword in CEI):\n",
    "        return \"Clean Energy Integration\"\n",
    "    elif any(keyword in sub_topic for keyword in CSP):\n",
    "        return \"Community Solar Projects\"\n",
    "    elif any(keyword in sub_topic for keyword in UPCE):\n",
    "        return \"Urban planning clean energy\"\n",
    "    elif any(keyword in sub_topic for keyword in CR):\n",
    "        return \"Climate Resilience\"\n",
    "    elif any(keyword in sub_topic for keyword in WF):\n",
    "        return \"Wind Farms\"\n",
    "    elif any(keyword in sub_topic for keyword in CES):\n",
    "        return \"Clean Energy skills\"\n",
    "    elif any(keyword in sub_topic for keyword in REC):\n",
    "        return \"Renewable Energy Certification\"\n",
    "    elif any(keyword in sub_topic for keyword in COP):\n",
    "        return \"Carbon Offset Programs\"\n",
    "    else:\n",
    "        return \"Other\"\n"
   ]
  },
  {
   "cell_type": "code",
   "execution_count": null,
   "id": "37a2fe7b",
   "metadata": {},
   "outputs": [],
   "source": [
    "afc_energy_df['Topic'] = afc_energy_df['Assigned Subtopic(Preprocessed)'].apply(topic_allocation_clngy)"
   ]
  },
  {
   "cell_type": "code",
   "execution_count": null,
   "id": "12850551",
   "metadata": {},
   "outputs": [],
   "source": [
    "afc_energy_df"
   ]
  },
  {
   "cell_type": "code",
   "execution_count": null,
   "id": "6012de28",
   "metadata": {},
   "outputs": [],
   "source": [
    "afc_energy_df_striped = afc_energy_df[afc_energy_df['Topic'] != 'NA']"
   ]
  },
  {
   "cell_type": "code",
   "execution_count": null,
   "id": "c4a8078c",
   "metadata": {},
   "outputs": [],
   "source": [
    "afc_energy_df_striped = afc_energy_df_striped[['Question', 'Answer', 'Macrotopic ', 'Topic',\n",
    "                                                   'Assigned Subtopic(Preprocessed)', 'Source Url']]"
   ]
  },
  {
   "cell_type": "code",
   "execution_count": null,
   "id": "de9eb1b3",
   "metadata": {},
   "outputs": [],
   "source": [
    "afc_energy_df_striped.rename(columns={'Assigned Subtopic(Preprocessed)': 'Subtopic'}, inplace=True)\n",
    "afc_energy_df_striped = afc_energy_df_striped.reset_index(drop=True)"
   ]
  },
  {
   "cell_type": "code",
   "execution_count": null,
   "id": "4b8ccf81",
   "metadata": {},
   "outputs": [],
   "source": [
    "afc_energy_df_striped"
   ]
  },
  {
   "cell_type": "code",
   "execution_count": null,
   "id": "9947d008",
   "metadata": {},
   "outputs": [],
   "source": [
    "afc_energy_df_striped.to_csv('Clean Energy for SUPERCLEANED dataset 23-3-2024.csv')"
   ]
  },
  {
   "cell_type": "code",
   "execution_count": null,
   "id": "d3e4dfd6",
   "metadata": {},
   "outputs": [],
   "source": [
    "afc_energy_df.to_csv('Unstriped Clean Energy for SUPERCLEANED dataset 23-3-2024.csv')"
   ]
  },
  {
   "cell_type": "code",
   "execution_count": null,
   "id": "8d6d5db5",
   "metadata": {},
   "outputs": [],
   "source": []
  },
  {
   "cell_type": "markdown",
   "id": "acef8f7c",
   "metadata": {},
   "source": [
    "# CLIMATE ACTION"
   ]
  },
  {
   "cell_type": "code",
   "execution_count": null,
   "id": "17a1a498",
   "metadata": {},
   "outputs": [],
   "source": [
    "climate_action_df = pd.read_excel(r\"C:\\Users\\RedHat\\Downloads\\Tiiqu\\Supercleaned demo dataset ready for Topic mod 21 03.xlsx\", \n",
    "                       sheet_name=3)\n",
    "climate_action_df"
   ]
  },
  {
   "cell_type": "code",
   "execution_count": null,
   "id": "fb8d0ba5",
   "metadata": {},
   "outputs": [],
   "source": [
    "climate_action_df['QA'] = climate_action_df['Question'] + ' ' + climate_action_df['Answer']\n",
    "climate_action_df"
   ]
  },
  {
   "cell_type": "code",
   "execution_count": null,
   "id": "b9f0475b",
   "metadata": {},
   "outputs": [],
   "source": [
    "# Climate change subtopic\n",
    "clmtaction_subtopic = pd.read_excel(r\"C:\\Users\\RedHat\\Downloads\\Tiiqu\\Climate Change macro-topic, topic, sub-topics .xlsx\", \n",
    "                                 sheet_name=2, skiprows=[1])\n",
    "clmtaction_subtopic"
   ]
  },
  {
   "cell_type": "code",
   "execution_count": null,
   "id": "be4ffe79",
   "metadata": {},
   "outputs": [],
   "source": [
    "# text embedding for climate action corpus\n",
    "text_embed('QA', climate_action_df, 'QA_vector')"
   ]
  },
  {
   "cell_type": "code",
   "execution_count": null,
   "id": "c4f1b793",
   "metadata": {},
   "outputs": [],
   "source": [
    "# subtopic embedding for climate change\n",
    "text_embed('Description', clmtaction_subtopic, 'Des_vector')\n",
    "clmtaction_subtopic"
   ]
  },
  {
   "cell_type": "code",
   "execution_count": null,
   "id": "ba38263a",
   "metadata": {},
   "outputs": [],
   "source": [
    "# Subtopic assignment for climate change dataset\n",
    "assign_subtopic(climate_action_df, 'QA_vector', clmtaction_subtopic, clmtaction_subtopic['Des_vector'], 'Subtopic', 'Assigned Subtopic')"
   ]
  },
  {
   "cell_type": "code",
   "execution_count": null,
   "id": "6dc2033c",
   "metadata": {},
   "outputs": [],
   "source": [
    "climate_action_df"
   ]
  },
  {
   "cell_type": "code",
   "execution_count": null,
   "id": "1786b9ad",
   "metadata": {},
   "outputs": [],
   "source": [
    "climate_action_df['QA_prep'] = climate_action_df['QA'].apply(preprocess_text)"
   ]
  },
  {
   "cell_type": "code",
   "execution_count": null,
   "id": "332afa78",
   "metadata": {},
   "outputs": [],
   "source": [
    "clmtaction_subtopic['Des_prep'] = clmtaction_subtopic['Description'].apply(preprocess_text)"
   ]
  },
  {
   "cell_type": "code",
   "execution_count": null,
   "id": "eaf38d75",
   "metadata": {},
   "outputs": [],
   "source": [
    "# text embedding for preprocessed climate change corpus\n",
    "text_embed('QA_prep', climate_action_df, 'QA_prep_vector')"
   ]
  },
  {
   "cell_type": "code",
   "execution_count": null,
   "id": "304b59f4",
   "metadata": {},
   "outputs": [],
   "source": [
    "# subtopic embedding for preprocessed climate change description\n",
    "text_embed('Des_prep', clmtaction_subtopic, 'Des_prep_vector')"
   ]
  },
  {
   "cell_type": "code",
   "execution_count": null,
   "id": "49017d24",
   "metadata": {},
   "outputs": [],
   "source": [
    "#Subtopic assignment for smart cities dataset\n",
    "assign_subtopic(climate_action_df, 'QA_prep_vector', clmtaction_subtopic, clmtaction_subtopic['Des_prep_vector'], 'Subtopic', 'Assigned Subtopic(Preprocessed)')"
   ]
  },
  {
   "cell_type": "code",
   "execution_count": null,
   "id": "195370c8",
   "metadata": {},
   "outputs": [],
   "source": [
    "climate_action_df"
   ]
  },
  {
   "cell_type": "code",
   "execution_count": null,
   "id": "aedcadbc",
   "metadata": {},
   "outputs": [],
   "source": [
    "subs_climatechg = pd.read_excel(r\"C:\\Users\\RedHat\\Downloads\\Tiiqu\\Climate Change macro-topic, topic, sub-topics .xlsx\", \n",
    "                                 sheet_name=0)\n",
    "subs_climatechg"
   ]
  },
  {
   "cell_type": "code",
   "execution_count": null,
   "id": "a6e15a4b",
   "metadata": {},
   "outputs": [],
   "source": [
    "subs_climatechg.columns"
   ]
  },
  {
   "cell_type": "code",
   "execution_count": null,
   "id": "240fa6eb",
   "metadata": {},
   "outputs": [],
   "source": [
    "GW = subs_climatechg['Global Warming'].dropna().values\n",
    "SLR = subs_climatechg['Sea Level Rise'].dropna().values\n",
    "CFR = subs_climatechg['Carbon Footprint Reduction'].dropna().values\n",
    "SAP = subs_climatechg['Sustainable Agriculture Practices'].dropna().values\n",
    "DAR = subs_climatechg['Deforestation and Reforestation'].dropna().values\n",
    "MCG = subs_climatechg['Melting Ice Caps and Glaciers'].dropna().values\n",
    "EWE = subs_climatechg['Extreme Weather Events'].dropna().values\n",
    "BC = subs_climatechg['Biodiversity Conservation'].dropna().values\n",
    "OA = subs_climatechg['Ocean Acidification'].dropna().values\n",
    "CRI = subs_climatechg['Climate Resilient Infrastructure'].dropna().values\n",
    "GER = subs_climatechg['Greenhouse Gas Emission Reduction'].dropna().values\n",
    "CAS = subs_climatechg['Climate Change Adaptation Strategies'].dropna().values\n",
    "CET = subs_climatechg['Clean Energy Transition'].dropna().values\n",
    "ST = subs_climatechg['Sustainable Transportation'].dropna().values\n",
    "CEI = subs_climatechg['circular Economy Initiatives'].dropna().values\n",
    "CJE = subs_climatechg['Climate Justice and Equity'].dropna().values\n",
    "CCS = subs_climatechg['carbon capture and Storage'].dropna().values\n",
    "ICA = subs_climatechg['International Climate agreement '].dropna().values"
   ]
  },
  {
   "cell_type": "code",
   "execution_count": null,
   "id": "3c8c3a27",
   "metadata": {},
   "outputs": [],
   "source": [
    "GW"
   ]
  },
  {
   "cell_type": "code",
   "execution_count": null,
   "id": "cb797beb",
   "metadata": {},
   "outputs": [],
   "source": [
    "def topic_allocation_clmtactn(sub_topic):\n",
    "    if pd.isnull(sub_topic):\n",
    "        return \"NA\"\n",
    "    if any(keyword in sub_topic for keyword in GW):\n",
    "        return \"Global Warming\"\n",
    "    elif any(keyword in sub_topic for keyword in SLR):\n",
    "        return \"Sea Level Rise\"\n",
    "    elif any(keyword in sub_topic for keyword in CFR):\n",
    "        return \"Carbon Footprint Reduction\"\n",
    "    elif any(keyword in sub_topic for keyword in SAP):\n",
    "        return \"Sustainable Agriculture Practices\"\n",
    "    elif any(keyword in sub_topic for keyword in DAR):\n",
    "        return \"Deforestation and Reforestation\"\n",
    "    elif any(keyword in sub_topic for keyword in MCG):\n",
    "        return \"Melting Ice Caps and Glaciers\"\n",
    "    elif any(keyword in sub_topic for keyword in EWE):\n",
    "        return \"Extreme Weather Events\"\n",
    "    elif any(keyword in sub_topic for keyword in BC):\n",
    "        return \"Biodiversity Conservation\"\n",
    "    elif any(keyword in sub_topic for keyword in OA):\n",
    "        return \"Ocean Acidification\"\n",
    "    elif any(keyword in sub_topic for keyword in CRI):\n",
    "        return \"Climate Resilient Infrastructure\"\n",
    "    elif any(keyword in sub_topic for keyword in GER):\n",
    "        return \"Greenhouse Gas Emission Reduction'\"\n",
    "    elif any(keyword in sub_topic for keyword in CAS):\n",
    "        return \"Climate Change Adaptation Strategies\"\n",
    "    elif any(keyword in sub_topic for keyword in CET):\n",
    "        return \"Clean Energy Transition\"\n",
    "    elif any(keyword in sub_topic for keyword in ST):\n",
    "        return \"Sustainable Transportation\"\n",
    "    elif any(keyword in sub_topic for keyword in CEI):\n",
    "        return \"circular Economy Initiatives\"\n",
    "    elif any(keyword in sub_topic for keyword in CJE):\n",
    "        return \"Climate Justice and Equity\"\n",
    "    elif any(keyword in sub_topic for keyword in CCS):\n",
    "        return \"carbon capture and Storage\"\n",
    "    elif any(keyword in sub_topic for keyword in ICA):\n",
    "        return \"International Climate Agreements\"\n",
    "    else:\n",
    "        return \"Other\""
   ]
  },
  {
   "cell_type": "code",
   "execution_count": null,
   "id": "e6e23102",
   "metadata": {},
   "outputs": [],
   "source": [
    "climate_action_df['Topic'] = climate_action_df['Assigned Subtopic(Preprocessed)'].apply(topic_allocation_clmtactn)"
   ]
  },
  {
   "cell_type": "code",
   "execution_count": null,
   "id": "0f4754ee",
   "metadata": {},
   "outputs": [],
   "source": [
    "climate_action_df_striped = climate_action_df[climate_action_df['Topic'] != 'NA']"
   ]
  },
  {
   "cell_type": "code",
   "execution_count": null,
   "id": "14a24204",
   "metadata": {},
   "outputs": [],
   "source": [
    "climate_action_df_striped = climate_action_df_striped[['Question', 'Answer', 'Macrotopic ', 'Topic',\n",
    "                                                   'Assigned Subtopic(Preprocessed)', 'Source Url']]"
   ]
  },
  {
   "cell_type": "code",
   "execution_count": null,
   "id": "b906af66",
   "metadata": {},
   "outputs": [],
   "source": [
    "climate_action_df_striped.rename(columns={'Assigned Subtopic(Preprocessed)': 'Subtopic'}, inplace=True)\n",
    "climate_action_df_striped = climate_action_df_striped.reset_index(drop=True)"
   ]
  },
  {
   "cell_type": "code",
   "execution_count": null,
   "id": "012b139a",
   "metadata": {},
   "outputs": [],
   "source": [
    "climate_action_df_striped"
   ]
  },
  {
   "cell_type": "code",
   "execution_count": null,
   "id": "0df908a6",
   "metadata": {},
   "outputs": [],
   "source": [
    "climate_action_df_striped.to_csv('Climate Change for SUPERCLEANED dataset 23-3-2024.csv')"
   ]
  },
  {
   "cell_type": "code",
   "execution_count": null,
   "id": "bb5661b6",
   "metadata": {},
   "outputs": [],
   "source": [
    "climate_action_df.to_csv('Unstriped Climate Change for SUPERCLEANED dataset 23-3-2024.csv')"
   ]
  },
  {
   "cell_type": "code",
   "execution_count": null,
   "id": "c0d2c313",
   "metadata": {},
   "outputs": [],
   "source": []
  }
 ],
 "metadata": {
  "kernelspec": {
   "display_name": "Python 3 (ipykernel)",
   "language": "python",
   "name": "python3"
  },
  "language_info": {
   "codemirror_mode": {
    "name": "ipython",
    "version": 3
   },
   "file_extension": ".py",
   "mimetype": "text/x-python",
   "name": "python",
   "nbconvert_exporter": "python",
   "pygments_lexer": "ipython3",
   "version": "3.13.0"
  }
 },
 "nbformat": 4,
 "nbformat_minor": 5
}
